{
  "nbformat": 4,
  "nbformat_minor": 0,
  "metadata": {
    "colab": {
      "name": "Review Rating Classification",
      "version": "0.3.2",
      "views": {},
      "default_view": {},
      "provenance": [
        {
          "file_id": "1ds3VNlY6eHQdQDZNZ2F8usWpZGnSqJUu",
          "timestamp": 1531101228459
        }
      ],
      "collapsed_sections": []
    },
    "kernelspec": {
      "name": "python2",
      "display_name": "Python 2"
    }
  },
  "cells": [
    {
      "metadata": {
        "id": "wIIx1K-tDdIA",
        "colab_type": "text"
      },
      "cell_type": "markdown",
      "source": [
        "# Review Rating Prediction using Keras and Word Sequence Embeddings"
      ]
    },
    {
      "metadata": {
        "id": "qnJYObbGCoIU",
        "colab_type": "code",
        "colab": {
          "autoexec": {
            "startup": false,
            "wait_interval": 0
          },
          "base_uri": "https://localhost:8080/",
          "height": 34
        },
        "outputId": "3681435b-aae4-49bf-d666-c8deee0c99bb",
        "executionInfo": {
          "status": "ok",
          "timestamp": 1531374530931,
          "user_tz": 300,
          "elapsed": 3504,
          "user": {
            "displayName": "Marshal Hayes",
            "photoUrl": "//lh6.googleusercontent.com/-k0fxd2z9ots/AAAAAAAAAAI/AAAAAAAAQ_E/SOSejSrYqHM/s50-c-k-no/photo.jpg",
            "userId": "114947195630594136352"
          }
        }
      },
      "cell_type": "code",
      "source": [
        "# Install dependencies. You only have to run this once per notebook.\n",
        "!pip install tensorflow numpy pandas matplotlib seaborn scikit-learn tensorflow-hub PyDrive --quiet\n",
        "!python -V"
      ],
      "execution_count": 1,
      "outputs": [
        {
          "output_type": "stream",
          "text": [
            "Python 2.7.14\r\n"
          ],
          "name": "stdout"
        }
      ]
    },
    {
      "metadata": {
        "id": "urTzP3eSD5wu",
        "colab_type": "code",
        "colab": {
          "autoexec": {
            "startup": false,
            "wait_interval": 0
          }
        }
      },
      "cell_type": "code",
      "source": [
        "# Import dependencies\n",
        "from __future__ import print_function\n",
        "\n",
        "from pydrive.auth import GoogleAuth\n",
        "from pydrive.drive import GoogleDrive\n",
        "from google.colab import auth\n",
        "from oauth2client.client import GoogleCredentials\n",
        "\n",
        "from matplotlib import pyplot as plt\n",
        "from sklearn.model_selection import train_test_split\n",
        "\n",
        "import numpy as np\n",
        "import pandas as pd\n",
        "import seaborn as sns\n",
        "import tensorflow as tf\n",
        "import tensorflow_hub as hub\n",
        "\n",
        "%matplotlib inline\n",
        "\n",
        "# Reduce tf logging\n",
        "tf.logging.set_verbosity(tf.logging.WARN)\n",
        "\n",
        "# Don't use scientific notation when printing numpy.array values\n",
        "np.set_printoptions(suppress=True)"
      ],
      "execution_count": 0,
      "outputs": []
    },
    {
      "metadata": {
        "id": "09IrGOGXNI1V",
        "colab_type": "text"
      },
      "cell_type": "markdown",
      "source": [
        "## Download the data from Google Drive"
      ]
    },
    {
      "metadata": {
        "id": "s1hV7QD7NPqu",
        "colab_type": "code",
        "colab": {
          "autoexec": {
            "startup": false,
            "wait_interval": 0
          }
        }
      },
      "cell_type": "code",
      "source": [
        "# Authenticate and create the PyDrive client.\n",
        "# This only needs to be done once per notebook.\n",
        "auth.authenticate_user()\n",
        "gauth = GoogleAuth()\n",
        "gauth.credentials = GoogleCredentials.get_application_default()\n",
        "drive = GoogleDrive(gauth)\n",
        "\n",
        "# Download a file based on its file ID\n",
        "file_id = '1fjR28PKqhdhTawVFIu7RX_6Z10Qhlekb'\n",
        "downloaded = drive.CreateFile({'id': file_id})\n",
        "downloaded.GetContentFile(\"/tmp/one_million_reviews.csv\")"
      ],
      "execution_count": 0,
      "outputs": []
    },
    {
      "metadata": {
        "id": "ZbU66yUTDv22",
        "colab_type": "code",
        "colab": {
          "autoexec": {
            "startup": false,
            "wait_interval": 0
          }
        }
      },
      "cell_type": "code",
      "source": [
        "# Load the recently downloaded file\n",
        "dataset = \"/tmp/one_million_reviews.csv\"\n",
        "\n",
        "def load_and_preprocess_data(dataset, num_examples=None, test_size=0.25):\n",
        "    # Read data with pandas\n",
        "    df, text, labels = None, None, None\n",
        "    if num_examples is not None:\n",
        "      df = pd.read_csv(dataset, \n",
        "                       usecols=['text', 'stars'], \n",
        "                       nrows=num_examples)\n",
        "      text, labels = df['text'], df['stars']\n",
        "    else:\n",
        "      df = pd.read_csv(dataset, usecols=['text', 'stars'])\n",
        "      text, labels = df['text'], df['stars']\n",
        "\n",
        "    # Convert data into np.arrays\n",
        "    text = np.array(text, dtype=np.str)[:, np.newaxis]\n",
        "\n",
        "    # Bin labels into three categories\n",
        "    # (0) -> 1-2, (1) -> 3, (2) -> 4-5\n",
        "    bins = [0, 2, 3, 5]\n",
        "    bin_labels = [0, 1, 2]\n",
        "    binned_labels = pd.cut(labels, bins=bins, labels=bin_labels)\n",
        "    \n",
        "    # Now convert labels into one-hot-encoded vectors\n",
        "    labels = tf.keras.utils.to_categorical(binned_labels, num_classes=3)\n",
        "\n",
        "    text_train, text_test, labels_train, labels_test = train_test_split(text, labels, test_size=test_size)\n",
        "    \n",
        "    # A short and simple way to implement num_examples\n",
        "    # A more efficient way should be implemented here, but this will do fine for now\n",
        "    if num_examples is not None:\n",
        "      return text_train[:num_examples], text_test[:num_examples], labels_train[:num_examples], labels_test[:num_examples]\n",
        "    return text_train, text_test, labels_train, labels_test"
      ],
      "execution_count": 0,
      "outputs": []
    },
    {
      "metadata": {
        "id": "vbU1LW3-juX2",
        "colab_type": "code",
        "colab": {
          "autoexec": {
            "startup": false,
            "wait_interval": 0
          }
        }
      },
      "cell_type": "code",
      "source": [
        "# Load 8,000 examples from our dataset\n",
        "text_train, text_test, labels_train, labels_test = load_and_preprocess_data(dataset, num_examples=8000)"
      ],
      "execution_count": 0,
      "outputs": []
    },
    {
      "metadata": {
        "id": "PQ1z-XOFER-S",
        "colab_type": "text"
      },
      "cell_type": "markdown",
      "source": [
        "## Define the Embedding Module"
      ]
    },
    {
      "metadata": {
        "id": "pbdWgwGYENtn",
        "colab_type": "code",
        "colab": {
          "autoexec": {
            "startup": false,
            "wait_interval": 0
          }
        }
      },
      "cell_type": "code",
      "source": [
        "# Download and load the tensorflow_hub embedding module. This will take some time.\n",
        "# Enable tf info logging if you want to see download progress.\n",
        "\n",
        "embed = hub.Module(\"https://tfhub.dev/google/universal-sentence-encoder/2\", trainable=True)\n",
        "\n",
        "# This will be used in a keras.layers.Lambda layer\n",
        "def EmbeddingModel(x):\n",
        "  # This function essentially `calls` the hub.Module and returns a 512-dimensional vector\n",
        "  return embed(tf.squeeze(tf.cast(x, tf.string)), signature=\"default\", as_dict=True)[\"default\"]"
      ],
      "execution_count": 0,
      "outputs": []
    },
    {
      "metadata": {
        "id": "cD7WWjWDEhNt",
        "colab_type": "text"
      },
      "cell_type": "markdown",
      "source": [
        "## Define the Model"
      ]
    },
    {
      "metadata": {
        "id": "97MLWdiDEf23",
        "colab_type": "code",
        "colab": {
          "autoexec": {
            "startup": false,
            "wait_interval": 0
          }
        }
      },
      "cell_type": "code",
      "source": [
        "input_text = tf.keras.layers.Input(shape=(1,), dtype=\"string\")\n",
        "embedding = tf.keras.layers.Lambda(EmbeddingModel, output_shape=(512,))(input_text)\n",
        "dense1 = tf.keras.layers.Dense(128, activation='relu')(embedding)\n",
        "dropout1 = tf.keras.layers.Dropout(0.2)(dense1)\n",
        "dense2 = tf.keras.layers.Dense(32, activation='relu')(dropout1)\n",
        "dropout2 = tf.keras.layers.Dropout(0.5)(dense2)\n",
        "pred = tf.keras.layers.Dense(3, activation='softmax')(dropout2)\n",
        "\n",
        "model = tf.keras.Model(inputs=[input_text], outputs=pred)\n",
        "model.compile(loss='categorical_crossentropy', optimizer='adam', metrics=['accuracy'])"
      ],
      "execution_count": 0,
      "outputs": []
    },
    {
      "metadata": {
        "id": "Ya-lxaHCEmTy",
        "colab_type": "code",
        "colab": {
          "autoexec": {
            "startup": false,
            "wait_interval": 0
          },
          "base_uri": "https://localhost:8080/",
          "height": 374
        },
        "outputId": "557c80b3-7009-412b-d79f-4fb6f92b5051",
        "executionInfo": {
          "status": "ok",
          "timestamp": 1531374677988,
          "user_tz": 300,
          "elapsed": 301,
          "user": {
            "displayName": "Marshal Hayes",
            "photoUrl": "//lh6.googleusercontent.com/-k0fxd2z9ots/AAAAAAAAAAI/AAAAAAAAQ_E/SOSejSrYqHM/s50-c-k-no/photo.jpg",
            "userId": "114947195630594136352"
          }
        }
      },
      "cell_type": "code",
      "source": [
        "# Show the model architecture\n",
        "model.summary()"
      ],
      "execution_count": 11,
      "outputs": [
        {
          "output_type": "stream",
          "text": [
            "_________________________________________________________________\n",
            "Layer (type)                 Output Shape              Param #   \n",
            "=================================================================\n",
            "input_2 (InputLayer)         (None, 1)                 0         \n",
            "_________________________________________________________________\n",
            "lambda_1 (Lambda)            (None, 512)               0         \n",
            "_________________________________________________________________\n",
            "dense_3 (Dense)              (None, 128)               65664     \n",
            "_________________________________________________________________\n",
            "dropout_2 (Dropout)          (None, 128)               0         \n",
            "_________________________________________________________________\n",
            "dense_4 (Dense)              (None, 32)                4128      \n",
            "_________________________________________________________________\n",
            "dropout_3 (Dropout)          (None, 32)                0         \n",
            "_________________________________________________________________\n",
            "dense_5 (Dense)              (None, 3)                 99        \n",
            "=================================================================\n",
            "Total params: 69,891\n",
            "Trainable params: 69,891\n",
            "Non-trainable params: 0\n",
            "_________________________________________________________________\n"
          ],
          "name": "stdout"
        }
      ]
    },
    {
      "metadata": {
        "id": "ytmuGO8iEppA",
        "colab_type": "code",
        "colab": {
          "autoexec": {
            "startup": false,
            "wait_interval": 0
          },
          "base_uri": "https://localhost:8080/",
          "height": 1054
        },
        "outputId": "30765e31-1102-494d-f61d-b237a7995249",
        "executionInfo": {
          "status": "ok",
          "timestamp": 1531374764886,
          "user_tz": 300,
          "elapsed": 84774,
          "user": {
            "displayName": "Marshal Hayes",
            "photoUrl": "//lh6.googleusercontent.com/-k0fxd2z9ots/AAAAAAAAAAI/AAAAAAAAQ_E/SOSejSrYqHM/s50-c-k-no/photo.jpg",
            "userId": "114947195630594136352"
          }
        }
      },
      "cell_type": "code",
      "source": [
        "# Store the history so we can see it later\n",
        "history = None\n",
        "\n",
        "# Start a session and fit the model using the 8000 examples from before!\n",
        "with tf.Session() as sess:\n",
        "  # K.set_session(sess)\n",
        "  sess.run([tf.global_variables_initializer(), tf.tables_initializer()])\n",
        "  history = model.fit(text_train, labels_train,\n",
        "                      validation_data=(text_test, labels_test), \n",
        "                      epochs=30, verbose=2)\n",
        "  \n",
        "  model.save_weights('/tmp/model.h5')"
      ],
      "execution_count": 12,
      "outputs": [
        {
          "output_type": "stream",
          "text": [
            "Train on 6000 samples, validate on 2000 samples\n",
            "Epoch 1/30\n",
            " - 5s - loss: 0.8806 - acc: 0.6423 - val_loss: 0.8375 - val_acc: 0.6330\n",
            "Epoch 2/30\n",
            " - 2s - loss: 0.8230 - acc: 0.6665 - val_loss: 0.8236 - val_acc: 0.6485\n",
            "Epoch 3/30\n",
            " - 2s - loss: 0.7983 - acc: 0.6778 - val_loss: 0.8161 - val_acc: 0.6625\n",
            "Epoch 4/30\n",
            " - 2s - loss: 0.7839 - acc: 0.6873 - val_loss: 0.8160 - val_acc: 0.6595\n",
            "Epoch 5/30\n",
            " - 2s - loss: 0.7701 - acc: 0.6935 - val_loss: 0.8193 - val_acc: 0.6575\n",
            "Epoch 6/30\n",
            " - 2s - loss: 0.7541 - acc: 0.6910 - val_loss: 0.8149 - val_acc: 0.6535\n",
            "Epoch 7/30\n",
            " - 2s - loss: 0.7352 - acc: 0.7042 - val_loss: 0.8213 - val_acc: 0.6580\n",
            "Epoch 8/30\n",
            " - 2s - loss: 0.7147 - acc: 0.7148 - val_loss: 0.8248 - val_acc: 0.6565\n",
            "Epoch 9/30\n",
            " - 2s - loss: 0.6987 - acc: 0.7197 - val_loss: 0.8282 - val_acc: 0.6495\n",
            "Epoch 10/30\n",
            " - 2s - loss: 0.6773 - acc: 0.7270 - val_loss: 0.8294 - val_acc: 0.6475\n",
            "Epoch 11/30\n",
            " - 2s - loss: 0.6480 - acc: 0.7412 - val_loss: 0.8462 - val_acc: 0.6415\n",
            "Epoch 12/30\n",
            " - 2s - loss: 0.6349 - acc: 0.7498 - val_loss: 0.8735 - val_acc: 0.6410\n",
            "Epoch 13/30\n",
            " - 2s - loss: 0.6099 - acc: 0.7562 - val_loss: 0.8637 - val_acc: 0.6410\n",
            "Epoch 14/30\n",
            " - 2s - loss: 0.5820 - acc: 0.7702 - val_loss: 0.9012 - val_acc: 0.6385\n",
            "Epoch 15/30\n",
            " - 2s - loss: 0.5621 - acc: 0.7777 - val_loss: 0.9316 - val_acc: 0.6325\n",
            "Epoch 16/30\n",
            " - 2s - loss: 0.5372 - acc: 0.7890 - val_loss: 0.9569 - val_acc: 0.6285\n",
            "Epoch 17/30\n",
            " - 2s - loss: 0.5233 - acc: 0.7935 - val_loss: 0.9703 - val_acc: 0.6235\n",
            "Epoch 18/30\n",
            " - 2s - loss: 0.4882 - acc: 0.8100 - val_loss: 1.0217 - val_acc: 0.6395\n",
            "Epoch 19/30\n",
            " - 2s - loss: 0.4690 - acc: 0.8160 - val_loss: 1.0372 - val_acc: 0.6180\n",
            "Epoch 20/30\n",
            " - 2s - loss: 0.4509 - acc: 0.8250 - val_loss: 1.0566 - val_acc: 0.6135\n",
            "Epoch 21/30\n",
            " - 2s - loss: 0.4314 - acc: 0.8337 - val_loss: 1.1091 - val_acc: 0.6250\n",
            "Epoch 22/30\n",
            " - 2s - loss: 0.4124 - acc: 0.8388 - val_loss: 1.1438 - val_acc: 0.6205\n",
            "Epoch 23/30\n",
            " - 2s - loss: 0.3881 - acc: 0.8507 - val_loss: 1.1654 - val_acc: 0.6130\n",
            "Epoch 24/30\n",
            " - 2s - loss: 0.3725 - acc: 0.8583 - val_loss: 1.2407 - val_acc: 0.6090\n",
            "Epoch 25/30\n",
            " - 2s - loss: 0.3658 - acc: 0.8612 - val_loss: 1.2106 - val_acc: 0.5955\n",
            "Epoch 26/30\n",
            " - 2s - loss: 0.3468 - acc: 0.8683 - val_loss: 1.2539 - val_acc: 0.6080\n",
            "Epoch 27/30\n",
            " - 2s - loss: 0.3216 - acc: 0.8812 - val_loss: 1.3153 - val_acc: 0.6085\n",
            "Epoch 28/30\n",
            " - 2s - loss: 0.3044 - acc: 0.8865 - val_loss: 1.3563 - val_acc: 0.6040\n",
            "Epoch 29/30\n",
            " - 2s - loss: 0.2979 - acc: 0.8863 - val_loss: 1.3813 - val_acc: 0.6065\n",
            "Epoch 30/30\n",
            " - 2s - loss: 0.2897 - acc: 0.8933 - val_loss: 1.4173 - val_acc: 0.6085\n"
          ],
          "name": "stdout"
        }
      ]
    },
    {
      "metadata": {
        "id": "7GKDst805mDl",
        "colab_type": "text"
      },
      "cell_type": "markdown",
      "source": [
        "Hmm, fairly accurate results. What's going on though? Let's see if we can figure out what the model is doing."
      ]
    },
    {
      "metadata": {
        "id": "mupClBI74n0R",
        "colab_type": "code",
        "colab": {
          "autoexec": {
            "startup": false,
            "wait_interval": 0
          },
          "base_uri": "https://localhost:8080/",
          "height": 349
        },
        "outputId": "c9ce6a1c-fccf-462e-df1e-d314baa9806c",
        "executionInfo": {
          "status": "ok",
          "timestamp": 1531374836676,
          "user_tz": 300,
          "elapsed": 457,
          "user": {
            "displayName": "Marshal Hayes",
            "photoUrl": "//lh6.googleusercontent.com/-k0fxd2z9ots/AAAAAAAAAAI/AAAAAAAAQ_E/SOSejSrYqHM/s50-c-k-no/photo.jpg",
            "userId": "114947195630594136352"
          }
        }
      },
      "cell_type": "code",
      "source": [
        "plt.figure(figsize=(10,5))\n",
        "plt.plot(history.history['acc'], c='b', label='accuracy')\n",
        "plt.plot(history.history['loss'], c='m', label='loss')\n",
        "plt.title(\"Loss and Accuracy - 512 x 128 x Dropout(0.2) x 32 x Dropout(0.5) x 3\")\n",
        "plt.xlabel('epochs'), plt.ylabel('value')\n",
        "plt.legend()\n",
        "plt.show()"
      ],
      "execution_count": 16,
      "outputs": [
        {
          "output_type": "display_data",
          "data": {
            "image/png": "[encoded data removed]",
            "text/plain": [
              "<matplotlib.figure.Figure at 0x7f9d75c50210>"
            ]
          },
          "metadata": {
            "tags": []
          }
        }
      ]
    },
    {
      "metadata": {
        "id": "b6UYxXDDK7kj",
        "colab_type": "text"
      },
      "cell_type": "markdown",
      "source": [
        "## Test the Model with Custom Reviews"
      ]
    },
    {
      "metadata": {
        "id": "Sn7e0z5uRwQK",
        "colab_type": "code",
        "colab": {
          "autoexec": {
            "startup": false,
            "wait_interval": 0
          },
          "base_uri": "https://localhost:8080/",
          "height": 85
        },
        "outputId": "54e1f735-9767-47f4-ec3a-9380624b29d4",
        "executionInfo": {
          "status": "ok",
          "timestamp": 1531374865147,
          "user_tz": 300,
          "elapsed": 19132,
          "user": {
            "displayName": "Marshal Hayes",
            "photoUrl": "//lh6.googleusercontent.com/-k0fxd2z9ots/AAAAAAAAAAI/AAAAAAAAQ_E/SOSejSrYqHM/s50-c-k-no/photo.jpg",
            "userId": "114947195630594136352"
          }
        }
      },
      "cell_type": "code",
      "source": [
        "data = [\"The food was absolutely disgusting! I will never return to this awful restaurant again.\",\n",
        "        \"I love this place! The food was amazing and the staff were very friendly.\",\n",
        "        \"This restaurant was pretty good. It was nothing unique, but the food was good enough that I will come back.\",\n",
        "       \"I have never seen or used a worse product than this. I imagined I'd be able to actually type on the keyboard, but I guess not. Save yourself and don't purchase this keyboard.\"]\n",
        "\n",
        "data = np.array(data, dtype=object)[:, np.newaxis]\n",
        "\n",
        "with tf.Session() as sess:\n",
        "  # K.set_session(sess)\n",
        "  sess.run([tf.global_variables_initializer(), tf.tables_initializer()])\n",
        " \n",
        "  model.load_weights('/tmp/model.h5')\n",
        "  \n",
        "  print( model.predict(data) )"
      ],
      "execution_count": 17,
      "outputs": [
        {
          "output_type": "stream",
          "text": [
            "[[0.9998983  0.00004077 0.00006097]\n",
            " [0.000274   0.00064824 0.9990777 ]\n",
            " [0.34024638 0.42814627 0.2316074 ]\n",
            " [0.93108094 0.04559933 0.02331976]]\n"
          ],
          "name": "stdout"
        }
      ]
    }
  ]
}