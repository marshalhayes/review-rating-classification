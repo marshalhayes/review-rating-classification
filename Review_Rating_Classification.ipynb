{
  "nbformat": 4,
  "nbformat_minor": 0,
  "metadata": {
    "colab": {
      "name": "Review Rating Classification",
      "version": "0.3.2",
      "provenance": [],
      "collapsed_sections": []
    },
    "kernelspec": {
      "name": "python2",
      "display_name": "Python 2"
    }
  },
  "cells": [
    {
      "metadata": {
        "id": "wIIx1K-tDdIA",
        "colab_type": "text"
      },
      "cell_type": "markdown",
      "source": [
        "# Review Rating Prediction using Keras and Word Sequence Embeddings"
      ]
    },
    {
      "metadata": {
        "id": "qnJYObbGCoIU",
        "colab_type": "code",
        "colab": {
          "base_uri": "https://localhost:8080/",
          "height": 34
        },
        "outputId": "46717400-9018-48ad-f2d0-b9e2f0821546"
      },
      "cell_type": "code",
      "source": [
        "# Install dependencies. You only have to run this once per notebook.\n",
        "!pip install tensorflow numpy pandas matplotlib seaborn scikit-learn tensorflow-hub PyDrive --quiet\n",
        "!python -V"
      ],
      "execution_count": 1,
      "outputs": [
        {
          "output_type": "stream",
          "text": [
            "Python 2.7.14\r\n"
          ],
          "name": "stdout"
        }
      ]
    },
    {
      "metadata": {
        "id": "urTzP3eSD5wu",
        "colab_type": "code",
        "colab": {}
      },
      "cell_type": "code",
      "source": [
        "# Import dependencies\n",
        "from __future__ import print_function\n",
        "\n",
        "from pydrive.auth import GoogleAuth\n",
        "from pydrive.drive import GoogleDrive\n",
        "from google.colab import auth\n",
        "from oauth2client.client import GoogleCredentials\n",
        "\n",
        "from matplotlib import pyplot as plt\n",
        "from sklearn.model_selection import train_test_split\n",
        "\n",
        "import numpy as np\n",
        "import pandas as pd\n",
        "import seaborn as sns\n",
        "import tensorflow as tf\n",
        "import tensorflow_hub as hub\n",
        "\n",
        "%matplotlib inline\n",
        "\n",
        "# Reduce tf logging\n",
        "tf.logging.set_verbosity(tf.logging.WARN)\n",
        "\n",
        "# Don't use scientific notation when printing numpy.array values\n",
        "np.set_printoptions(suppress=True)\n",
        "\n",
        "# Use the cool looking seaborn style\n",
        "sns.set_style(\"darkgrid\")"
      ],
      "execution_count": 0,
      "outputs": []
    },
    {
      "metadata": {
        "id": "09IrGOGXNI1V",
        "colab_type": "text"
      },
      "cell_type": "markdown",
      "source": [
        "## Download the data from Google Drive"
      ]
    },
    {
      "metadata": {
        "id": "s1hV7QD7NPqu",
        "colab_type": "code",
        "colab": {}
      },
      "cell_type": "code",
      "source": [
        "# Authenticate and create the PyDrive client.\n",
        "# This only needs to be done once per notebook.\n",
        "auth.authenticate_user()\n",
        "gauth = GoogleAuth()\n",
        "gauth.credentials = GoogleCredentials.get_application_default()\n",
        "drive = GoogleDrive(gauth)\n",
        "\n",
        "# Download a file based on its file ID\n",
        "file_id = '1fjR28PKqhdhTawVFIu7RX_6Z10Qhlekb'\n",
        "downloaded = drive.CreateFile({'id': file_id})\n",
        "downloaded.GetContentFile(\"/tmp/one_million_reviews.csv\")"
      ],
      "execution_count": 0,
      "outputs": []
    },
    {
      "metadata": {
        "id": "ZbU66yUTDv22",
        "colab_type": "code",
        "colab": {}
      },
      "cell_type": "code",
      "source": [
        "# Load the recently downloaded file\n",
        "dataset = \"/tmp/one_million_reviews.csv\"\n",
        "\n",
        "def load_and_preprocess_data(dataset, num_examples=None, test_size=0.25):\n",
        "    # Read data with pandas\n",
        "    df, text, labels = None, None, None\n",
        "    if num_examples is not None:\n",
        "      df = pd.read_csv(dataset, \n",
        "                       usecols=['text', 'stars'], \n",
        "                       nrows=num_examples)\n",
        "      text, labels = df['text'], df['stars']\n",
        "    else:\n",
        "      df = pd.read_csv(dataset, usecols=['text', 'stars'])\n",
        "      text, labels = df['text'], df['stars']\n",
        "\n",
        "    # Convert data into np.arrays\n",
        "    text = np.array(text, dtype=np.str)[:, np.newaxis]\n",
        "\n",
        "    # Bin labels into three categories\n",
        "    # (0) -> 1-2, (1) -> 3, (2) -> 4-5\n",
        "    bins = [0, 2, 3, 5]\n",
        "    bin_labels = [0, 1, 2]\n",
        "    binned_labels = pd.cut(labels, bins=bins, labels=bin_labels)\n",
        "    \n",
        "    # Now convert labels into one-hot-encoded vectors\n",
        "    labels = tf.keras.utils.to_categorical(binned_labels, num_classes=3)\n",
        "\n",
        "    return train_test_split(text, labels, test_size=test_size)\n",
        " "
      ],
      "execution_count": 0,
      "outputs": []
    },
    {
      "metadata": {
        "id": "vbU1LW3-juX2",
        "colab_type": "code",
        "colab": {}
      },
      "cell_type": "code",
      "source": [
        "# Load 8,000 examples from our dataset\n",
        "text_train, text_test, labels_train, labels_test = load_and_preprocess_data(dataset, num_examples=8000)"
      ],
      "execution_count": 0,
      "outputs": []
    },
    {
      "metadata": {
        "id": "PQ1z-XOFER-S",
        "colab_type": "text"
      },
      "cell_type": "markdown",
      "source": [
        "## Define the Embedding Module"
      ]
    },
    {
      "metadata": {
        "id": "pbdWgwGYENtn",
        "colab_type": "code",
        "colab": {}
      },
      "cell_type": "code",
      "source": [
        "# Download and load the tensorflow_hub embedding module. This will take some time.\n",
        "# Enable tf info logging if you want to see download progress.\n",
        "\n",
        "embed = hub.Module(\"https://tfhub.dev/google/universal-sentence-encoder/2\", trainable=True)\n",
        "\n",
        "# This will be used in a keras.layers.Lambda layer\n",
        "def EmbeddingModel(x):\n",
        "  # This function essentially `calls` the hub.Module and returns a 512-dimensional vector\n",
        "  return embed(tf.squeeze(tf.cast(x, tf.string)), signature=\"default\", as_dict=True)[\"default\"]"
      ],
      "execution_count": 0,
      "outputs": []
    },
    {
      "metadata": {
        "id": "cD7WWjWDEhNt",
        "colab_type": "text"
      },
      "cell_type": "markdown",
      "source": [
        "## Define the Model"
      ]
    },
    {
      "metadata": {
        "id": "97MLWdiDEf23",
        "colab_type": "code",
        "colab": {}
      },
      "cell_type": "code",
      "source": [
        "input_text = tf.keras.layers.Input(shape=(1,), dtype=\"string\")\n",
        "embedding = tf.keras.layers.Lambda(EmbeddingModel, output_shape=(512,))(input_text)\n",
        "dense1 = tf.keras.layers.Dense(128, activation='relu')(embedding)\n",
        "dropout1 = tf.keras.layers.Dropout(0.2)(dense1)\n",
        "dense2 = tf.keras.layers.Dense(32, activation='relu')(dropout1)\n",
        "dropout2 = tf.keras.layers.Dropout(0.5)(dense2)\n",
        "pred = tf.keras.layers.Dense(3, activation='softmax')(dropout2)\n",
        "\n",
        "model = tf.keras.Model(inputs=[input_text], outputs=pred)\n",
        "model.compile(loss='categorical_crossentropy', optimizer='adam', metrics=['accuracy'])"
      ],
      "execution_count": 0,
      "outputs": []
    },
    {
      "metadata": {
        "id": "Ya-lxaHCEmTy",
        "colab_type": "code",
        "colab": {
          "base_uri": "https://localhost:8080/",
          "height": 374
        },
        "outputId": "68f4dea7-b96a-419f-977f-ed0dc8e434a2"
      },
      "cell_type": "code",
      "source": [
        "# Show the model architecture\n",
        "model.summary()"
      ],
      "execution_count": 10,
      "outputs": [
        {
          "output_type": "stream",
          "text": [
            "_________________________________________________________________\n",
            "Layer (type)                 Output Shape              Param #   \n",
            "=================================================================\n",
            "input_2 (InputLayer)         (None, 1)                 0         \n",
            "_________________________________________________________________\n",
            "lambda_1 (Lambda)            (None, 512)               0         \n",
            "_________________________________________________________________\n",
            "dense_3 (Dense)              (None, 128)               65664     \n",
            "_________________________________________________________________\n",
            "dropout_2 (Dropout)          (None, 128)               0         \n",
            "_________________________________________________________________\n",
            "dense_4 (Dense)              (None, 32)                4128      \n",
            "_________________________________________________________________\n",
            "dropout_3 (Dropout)          (None, 32)                0         \n",
            "_________________________________________________________________\n",
            "dense_5 (Dense)              (None, 3)                 99        \n",
            "=================================================================\n",
            "Total params: 69,891\n",
            "Trainable params: 69,891\n",
            "Non-trainable params: 0\n",
            "_________________________________________________________________\n"
          ],
          "name": "stdout"
        }
      ]
    },
    {
      "metadata": {
        "id": "ytmuGO8iEppA",
        "colab_type": "code",
        "colab": {
          "base_uri": "https://localhost:8080/",
          "height": 1054
        },
        "outputId": "e760670b-3671-4816-92da-b9af7716acc8"
      },
      "cell_type": "code",
      "source": [
        "# Store the history so we can see it later\n",
        "history = None\n",
        "\n",
        "# Start a session and fit the model using the 8000 examples from before!\n",
        "with tf.Session() as sess:\n",
        "  # K.set_session(sess)\n",
        "  sess.run([tf.global_variables_initializer(), tf.tables_initializer()])\n",
        "  history = model.fit(text_train, labels_train,\n",
        "                      validation_data=(text_test, labels_test), \n",
        "                      epochs=30, verbose=2)\n",
        "  \n",
        "  model.save_weights('/tmp/model.h5')"
      ],
      "execution_count": 11,
      "outputs": [
        {
          "output_type": "stream",
          "text": [
            "Train on 6000 samples, validate on 2000 samples\n",
            "Epoch 1/30\n",
            " - 5s - loss: 0.8821 - acc: 0.6450 - val_loss: 0.8105 - val_acc: 0.6410\n",
            "Epoch 2/30\n",
            " - 3s - loss: 0.8287 - acc: 0.6563 - val_loss: 0.7992 - val_acc: 0.6655\n",
            "Epoch 3/30\n",
            " - 3s - loss: 0.8074 - acc: 0.6657 - val_loss: 0.7864 - val_acc: 0.6710\n",
            "Epoch 4/30\n",
            " - 3s - loss: 0.7987 - acc: 0.6717 - val_loss: 0.7756 - val_acc: 0.6745\n",
            "Epoch 5/30\n",
            " - 3s - loss: 0.7823 - acc: 0.6745 - val_loss: 0.7769 - val_acc: 0.6745\n",
            "Epoch 6/30\n",
            " - 3s - loss: 0.7685 - acc: 0.6830 - val_loss: 0.7846 - val_acc: 0.6755\n",
            "Epoch 7/30\n",
            " - 3s - loss: 0.7564 - acc: 0.6888 - val_loss: 0.7746 - val_acc: 0.6765\n",
            "Epoch 8/30\n",
            " - 3s - loss: 0.7362 - acc: 0.6962 - val_loss: 0.7785 - val_acc: 0.6780\n",
            "Epoch 9/30\n",
            " - 3s - loss: 0.7196 - acc: 0.7007 - val_loss: 0.7905 - val_acc: 0.6725\n",
            "Epoch 10/30\n",
            " - 3s - loss: 0.6936 - acc: 0.7117 - val_loss: 0.7920 - val_acc: 0.6680\n",
            "Epoch 11/30\n",
            " - 3s - loss: 0.6671 - acc: 0.7215 - val_loss: 0.7940 - val_acc: 0.6655\n",
            "Epoch 12/30\n",
            " - 3s - loss: 0.6475 - acc: 0.7315 - val_loss: 0.8292 - val_acc: 0.6675\n",
            "Epoch 13/30\n",
            " - 3s - loss: 0.6195 - acc: 0.7473 - val_loss: 0.8234 - val_acc: 0.6625\n",
            "Epoch 14/30\n",
            " - 3s - loss: 0.5959 - acc: 0.7558 - val_loss: 0.8504 - val_acc: 0.6480\n",
            "Epoch 15/30\n",
            " - 3s - loss: 0.5714 - acc: 0.7620 - val_loss: 0.8811 - val_acc: 0.6555\n",
            "Epoch 16/30\n",
            " - 3s - loss: 0.5613 - acc: 0.7715 - val_loss: 0.8901 - val_acc: 0.6470\n",
            "Epoch 17/30\n",
            " - 3s - loss: 0.5410 - acc: 0.7775 - val_loss: 0.8984 - val_acc: 0.6460\n",
            "Epoch 18/30\n",
            " - 3s - loss: 0.5081 - acc: 0.7985 - val_loss: 0.9527 - val_acc: 0.6545\n",
            "Epoch 19/30\n",
            " - 3s - loss: 0.4924 - acc: 0.8032 - val_loss: 0.9602 - val_acc: 0.6340\n",
            "Epoch 20/30\n",
            " - 3s - loss: 0.4768 - acc: 0.8105 - val_loss: 0.9761 - val_acc: 0.6285\n",
            "Epoch 21/30\n",
            " - 3s - loss: 0.4424 - acc: 0.8257 - val_loss: 1.0252 - val_acc: 0.6210\n",
            "Epoch 22/30\n",
            " - 3s - loss: 0.4277 - acc: 0.8303 - val_loss: 1.0521 - val_acc: 0.5810\n",
            "Epoch 23/30\n",
            " - 3s - loss: 0.4114 - acc: 0.8370 - val_loss: 1.0827 - val_acc: 0.6305\n",
            "Epoch 24/30\n",
            " - 3s - loss: 0.3986 - acc: 0.8437 - val_loss: 1.1062 - val_acc: 0.6130\n",
            "Epoch 25/30\n",
            " - 3s - loss: 0.3691 - acc: 0.8573 - val_loss: 1.1251 - val_acc: 0.6095\n",
            "Epoch 26/30\n",
            " - 3s - loss: 0.3548 - acc: 0.8645 - val_loss: 1.2006 - val_acc: 0.6290\n",
            "Epoch 27/30\n",
            " - 3s - loss: 0.3492 - acc: 0.8692 - val_loss: 1.1798 - val_acc: 0.6170\n",
            "Epoch 28/30\n",
            " - 3s - loss: 0.3231 - acc: 0.8762 - val_loss: 1.2354 - val_acc: 0.6180\n",
            "Epoch 29/30\n",
            " - 3s - loss: 0.3125 - acc: 0.8765 - val_loss: 1.2429 - val_acc: 0.6210\n",
            "Epoch 30/30\n",
            " - 3s - loss: 0.3009 - acc: 0.8850 - val_loss: 1.2820 - val_acc: 0.6170\n"
          ],
          "name": "stdout"
        }
      ]
    },
    {
      "metadata": {
        "id": "7GKDst805mDl",
        "colab_type": "text"
      },
      "cell_type": "markdown",
      "source": [
        "Hmm, fairly accurate results. What's going on though? The validation loss is *increasing*! Let's see if we can figure out what the model is doing."
      ]
    },
    {
      "metadata": {
        "id": "mupClBI74n0R",
        "colab_type": "code",
        "colab": {
          "base_uri": "https://localhost:8080/",
          "height": 349
        },
        "outputId": "85d52da0-8ebd-41ad-d8c8-d93c8c3c2380"
      },
      "cell_type": "code",
      "source": [
        "# Plot the accuracy and loss\n",
        "plt.figure(figsize=(10,5))\n",
        "plt.plot(history.history['acc'], c='b', label='accuracy')\n",
        "plt.plot(history.history['loss'], c='m', label='loss')\n",
        "plt.title(\"Loss and Accuracy - 512 x 128 x Dropout(0.2) x 32 x Dropout(0.5) x 3\")\n",
        "plt.xlabel('epochs'), plt.ylabel('value')\n",
        "plt.legend()\n",
        "plt.show()"
      ],
      "execution_count": 12,
      "outputs": [
        {
          "output_type": "display_data",
          "data": {
            "image/png": "[encoded data removed]",
            "text/plain": [
              "<matplotlib.figure.Figure at 0x7f62b5526590>"
            ]
          },
          "metadata": {
            "tags": []
          }
        }
      ]
    },
    {
      "metadata": {
        "id": "ThFAk4owAjzG",
        "colab_type": "code",
        "colab": {
          "base_uri": "https://localhost:8080/",
          "height": 349
        },
        "outputId": "c508555b-7922-472a-9aeb-4e5988545466"
      },
      "cell_type": "code",
      "source": [
        "# Plot the validation loss\n",
        "plt.figure(figsize=(10,5))\n",
        "plt.plot(history.history['val_loss'], c='m', label='validation loss')\n",
        "plt.title(\"Validation loss\")\n",
        "plt.xlabel('epochs')\n",
        "plt.ylabel('value')\n",
        "plt.legend()\n",
        "plt.show()"
      ],
      "execution_count": 13,
      "outputs": [
        {
          "output_type": "display_data",
          "data": {
            "image/png": "[encoded data removed]",
            "text/plain": [
              "<matplotlib.figure.Figure at 0x7f62b54ec710>"
            ]
          },
          "metadata": {
            "tags": []
          }
        }
      ]
    },
    {
      "metadata": {
        "id": "S7geWMmVGcFR",
        "colab_type": "text"
      },
      "cell_type": "markdown",
      "source": [
        "Something is going horribly wrong with our model. Now loss should ever increase. \n",
        "\n",
        "The training loss decreased, but the validation loss is increasing. This probably indicates that our model is overfit to the training data."
      ]
    },
    {
      "metadata": {
        "id": "b6UYxXDDK7kj",
        "colab_type": "text"
      },
      "cell_type": "markdown",
      "source": [
        "## Test the Model with Custom Reviews"
      ]
    },
    {
      "metadata": {
        "id": "Sn7e0z5uRwQK",
        "colab_type": "code",
        "colab": {
          "base_uri": "https://localhost:8080/",
          "height": 85
        },
        "outputId": "628f11a9-3a34-4a9a-8f18-5e28aeb2cae3"
      },
      "cell_type": "code",
      "source": [
        "data = [\"The food was absolutely disgusting! I will never return to this awful restaurant again.\",\n",
        "        \"I love this place! The food was amazing and the staff were very friendly.\",\n",
        "        \"This restaurant was pretty good. It was nothing unique, but the food was good enough that I will come back.\",\n",
        "       \"I have never seen or used a worse product than this. I imagined I'd be able to actually type on the keyboard, but I guess not. Save yourself and don't purchase this keyboard.\"]\n",
        "\n",
        "data = np.array(data, dtype=object)[:, np.newaxis]\n",
        "\n",
        "with tf.Session() as sess:\n",
        "  # K.set_session(sess)\n",
        "  sess.run([tf.global_variables_initializer(), tf.tables_initializer()])\n",
        " \n",
        "  model.load_weights('/tmp/model.h5')\n",
        "  \n",
        "  print( model.predict(data) )"
      ],
      "execution_count": 14,
      "outputs": [
        {
          "output_type": "stream",
          "text": [
            "[[0.9977925  0.0019062  0.00030135]\n",
            " [0.00025759 0.00662593 0.9931165 ]\n",
            " [0.0985999  0.7617444  0.13965574]\n",
            " [0.9994729  0.00003827 0.00048885]]\n"
          ],
          "name": "stdout"
        }
      ]
    },
    {
      "metadata": {
        "id": "mlD41k_-BCr7",
        "colab_type": "text"
      },
      "cell_type": "markdown",
      "source": [
        "## Let's train with more data"
      ]
    },
    {
      "metadata": {
        "id": "xwnU2AjkBD7B",
        "colab_type": "code",
        "colab": {}
      },
      "cell_type": "code",
      "source": [
        "# Load 50,000 examples from our dataset\n",
        "text_train, text_test, labels_train, labels_test = load_and_preprocess_data(dataset, num_examples=50000)"
      ],
      "execution_count": 0,
      "outputs": []
    },
    {
      "metadata": {
        "id": "gQMrvaZXBKLo",
        "colab_type": "code",
        "colab": {}
      },
      "cell_type": "code",
      "source": [
        "# We should probably recreate the model to avoid influence from the previous training\n",
        "input_text = tf.keras.layers.Input(shape=(1,), dtype=\"string\")\n",
        "embedding = tf.keras.layers.Lambda(EmbeddingModel, output_shape=(512,))(input_text)\n",
        "dense1 = tf.keras.layers.Dense(128, activation='relu')(embedding)\n",
        "dropout1 = tf.keras.layers.Dropout(0.2)(dense1)\n",
        "dense2 = tf.keras.layers.Dense(32, activation='relu')(dropout1)\n",
        "dropout2 = tf.keras.layers.Dropout(0.5)(dense2)\n",
        "pred = tf.keras.layers.Dense(3, activation='softmax')(dropout2)\n",
        "\n",
        "model = tf.keras.Model(inputs=[input_text], outputs=pred)\n",
        "model.compile(loss='categorical_crossentropy', optimizer='adam', metrics=['accuracy'])"
      ],
      "execution_count": 0,
      "outputs": []
    },
    {
      "metadata": {
        "id": "ObXopLqrBYuF",
        "colab_type": "code",
        "colab": {
          "base_uri": "https://localhost:8080/",
          "height": 544
        },
        "outputId": "f503bb6a-e060-4aa6-fc99-980547d41f3a"
      },
      "cell_type": "code",
      "source": [
        "history = None\n",
        "\n",
        "with tf.Session() as sess:\n",
        "  sess.run([tf.global_variables_initializer(), tf.tables_initializer()])\n",
        "  history = model.fit(text_train, labels_train,\n",
        "                      validation_data=(text_test, labels_test), \n",
        "                      epochs=15, verbose=2)\n",
        "  \n",
        "  model.save_weights('/tmp/model.h5')"
      ],
      "execution_count": 17,
      "outputs": [
        {
          "output_type": "stream",
          "text": [
            "Train on 37500 samples, validate on 12500 samples\n",
            "Epoch 1/15\n",
            " - 19s - loss: 0.7623 - acc: 0.6967 - val_loss: 0.7107 - val_acc: 0.7125\n",
            "Epoch 2/15\n",
            " - 16s - loss: 0.7256 - acc: 0.7119 - val_loss: 0.6999 - val_acc: 0.7135\n",
            "Epoch 3/15\n",
            " - 16s - loss: 0.7101 - acc: 0.7166 - val_loss: 0.7056 - val_acc: 0.7142\n",
            "Epoch 4/15\n",
            " - 16s - loss: 0.7025 - acc: 0.7199 - val_loss: 0.6925 - val_acc: 0.7197\n",
            "Epoch 5/15\n",
            " - 16s - loss: 0.6929 - acc: 0.7234 - val_loss: 0.6959 - val_acc: 0.7162\n",
            "Epoch 6/15\n",
            " - 16s - loss: 0.6854 - acc: 0.7249 - val_loss: 0.6920 - val_acc: 0.7175\n",
            "Epoch 7/15\n",
            " - 16s - loss: 0.6766 - acc: 0.7291 - val_loss: 0.6929 - val_acc: 0.7214\n",
            "Epoch 8/15\n",
            " - 16s - loss: 0.6668 - acc: 0.7323 - val_loss: 0.6915 - val_acc: 0.7197\n",
            "Epoch 9/15\n",
            " - 16s - loss: 0.6605 - acc: 0.7346 - val_loss: 0.6926 - val_acc: 0.7202\n",
            "Epoch 10/15\n",
            " - 16s - loss: 0.6526 - acc: 0.7374 - val_loss: 0.6966 - val_acc: 0.7174\n",
            "Epoch 11/15\n",
            " - 16s - loss: 0.6446 - acc: 0.7405 - val_loss: 0.7060 - val_acc: 0.7149\n",
            "Epoch 12/15\n",
            " - 16s - loss: 0.6375 - acc: 0.7440 - val_loss: 0.7057 - val_acc: 0.7159\n",
            "Epoch 13/15\n",
            " - 16s - loss: 0.6295 - acc: 0.7459 - val_loss: 0.7103 - val_acc: 0.7140\n",
            "Epoch 14/15\n",
            " - 16s - loss: 0.6218 - acc: 0.7479 - val_loss: 0.7121 - val_acc: 0.7146\n",
            "Epoch 15/15\n",
            " - 16s - loss: 0.6121 - acc: 0.7515 - val_loss: 0.7216 - val_acc: 0.7173\n"
          ],
          "name": "stdout"
        }
      ]
    },
    {
      "metadata": {
        "id": "9_biOhSZBfot",
        "colab_type": "code",
        "colab": {
          "base_uri": "https://localhost:8080/",
          "height": 349
        },
        "outputId": "39ffdef2-9a72-4ea0-bd1d-6a16ee3784df"
      },
      "cell_type": "code",
      "source": [
        "plt.figure(figsize=(10,5))\n",
        "plt.plot(history.history['acc'], c='b', label='accuracy')\n",
        "plt.plot(history.history['loss'], c='m', label='loss')\n",
        "plt.plot(history.history['val_loss'], c='c', label='validation loss')\n",
        "plt.title(\"Loss and Accuracy - 512 x 128 x Dropout(0.2) x 32 x Dropout(0.5) x 3\")\n",
        "plt.xlabel('epochs'), plt.ylabel('value')\n",
        "plt.legend()\n",
        "plt.show()"
      ],
      "execution_count": 18,
      "outputs": [
        {
          "output_type": "display_data",
          "data": {
            "image/png": "[encoded data removed]",
            "text/plain": [
              "<matplotlib.figure.Figure at 0x7f62b0d7e610>"
            ]
          },
          "metadata": {
            "tags": []
          }
        }
      ]
    },
    {
      "metadata": {
        "id": "l9VoqzxeCi0o",
        "colab_type": "text"
      },
      "cell_type": "markdown",
      "source": [
        "Our validation is still increasing slightly after around epoch 8. What's going on?"
      ]
    }
  ]
}